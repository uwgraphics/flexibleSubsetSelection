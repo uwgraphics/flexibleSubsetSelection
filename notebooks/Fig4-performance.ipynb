{
 "cells": [
  {
   "cell_type": "markdown",
   "metadata": {},
   "source": [
    "# Solver Performance Comparisons\n",
    "\n",
    "This notebook demonstrates our testing and comparing the performance of different general purpose solvers.\n",
    "\n",
    "### Imports and Setup"
   ]
  },
  {
   "cell_type": "code",
   "execution_count": 1,
   "metadata": {},
   "outputs": [],
   "source": [
    "# Third party\n",
    "import matplotlib.pyplot as plt\n",
    "import matplotlib_inline\n",
    "\n",
    "import pandas as pd\n",
    "import seaborn as sns \n",
    "\n",
    "# Local\n",
    "import flexibleSubsetSelection as fss\n",
    "\n",
    "# Initialize notebook settings\n",
    "sns.set_theme() # set seaborn theme\n",
    "matplotlib_inline.backend_inline.set_matplotlib_formats('svg') # vector plots\n",
    "%matplotlib inline \n",
    "%load_ext autoreload\n",
    "%autoreload 2"
   ]
  },
  {
   "cell_type": "code",
   "execution_count": 4,
   "metadata": {},
   "outputs": [],
   "source": [
    "directory = \"Fig4-performance\" # data directory for this notebook\n",
    "subsetSize = 10                # size of subset selected\n",
    "verbose = False                # verbosity of solvers\n",
    "seed = 123                     # random generation seed for replicability\n",
    "numTrials = 5\n",
    "\n",
    "dataset = fss.Dataset(randTypes=\"uniform\", size=(1000, 10), seed=seed)\n",
    "dataset.save(f\"{directory}/dataset\")\n",
    "\n",
    "dataset.preprocess(mean=fss.metric.mean)\n",
    "meanLoss = fss.UniCriterion(objective = fss.objective.preserveMetric, \n",
    "                            metric = fss.metric.mean,\n",
    "                            datasetMetric = dataset.mean)\n",
    "\n",
    "dataset.preprocess(range=fss.metric.range)\n",
    "rangeLoss = fss.UniCriterion(objective = fss.objective.preserveMetric, \n",
    "                            metric = fss.metric.range,\n",
    "                            datasetMetric = dataset.range)\n",
    "\n",
    "lossFunctions = [meanLoss, rangeLoss]\n",
    "\n",
    "solver = fss.Solver(algorithm=fss.algorithm.greedySwap, loss=meanLoss)"
   ]
  },
  {
   "cell_type": "code",
   "execution_count": 5,
   "metadata": {},
   "outputs": [
    {
     "name": "stdout",
     "output_type": "stream",
     "text": [
      "Solved for Subset(size: (np.float64(10.0), 10), solve time: 0.13s, loss=0.41).\n",
      "Solved for Subset(size: (np.float64(10.0), 10), solve time: 0.03s, loss=1.1).\n",
      "Solved for Subset(size: (np.float64(10.0), 10), solve time: 0.03s, loss=5.54).\n",
      "Solved for Subset(size: (np.float64(10.0), 10), solve time: 0.11s, loss=0.56).\n",
      "Solved for Subset(size: (np.float64(10.0), 10), solve time: 0.02s, loss=3.13).\n",
      "Solved for Subset(size: (np.float64(10.0), 10), solve time: 0.03s, loss=13.91).\n",
      "Solved for Subset(size: (np.float64(10.0), 10), solve time: 0.13s, loss=0.42).\n",
      "Solved for Subset(size: (np.float64(10.0), 10), solve time: 0.03s, loss=1.01).\n",
      "Solved for Subset(size: (np.float64(10.0), 10), solve time: 0.03s, loss=5.28).\n",
      "Solved for Subset(size: (np.float64(10.0), 10), solve time: 0.11s, loss=0.55).\n",
      "Solved for Subset(size: (np.float64(10.0), 10), solve time: 0.02s, loss=3.75).\n",
      "Solved for Subset(size: (np.float64(10.0), 10), solve time: 0.02s, loss=12.24).\n",
      "Solved for Subset(size: (np.float64(10.0), 10), solve time: 0.13s, loss=0.4).\n",
      "Solved for Subset(size: (np.float64(10.0), 10), solve time: 0.03s, loss=1.0).\n",
      "Solved for Subset(size: (np.float64(10.0), 10), solve time: 0.03s, loss=5.38).\n",
      "Solved for Subset(size: (np.float64(10.0), 10), solve time: 0.11s, loss=0.66).\n",
      "Solved for Subset(size: (np.float64(10.0), 10), solve time: 0.02s, loss=3.22).\n",
      "Solved for Subset(size: (np.float64(10.0), 10), solve time: 0.02s, loss=12.46).\n",
      "Solved for Subset(size: (np.float64(10.0), 10), solve time: 0.12s, loss=0.45).\n",
      "Solved for Subset(size: (np.float64(10.0), 10), solve time: 0.03s, loss=1.13).\n",
      "Solved for Subset(size: (np.float64(10.0), 10), solve time: 0.03s, loss=5.42).\n",
      "Solved for Subset(size: (np.float64(10.0), 10), solve time: 0.11s, loss=0.58).\n",
      "Solved for Subset(size: (np.float64(10.0), 10), solve time: 0.02s, loss=3.93).\n",
      "Solved for Subset(size: (np.float64(10.0), 10), solve time: 0.02s, loss=12.24).\n",
      "Solved for Subset(size: (np.float64(10.0), 10), solve time: 0.13s, loss=0.37).\n",
      "Solved for Subset(size: (np.float64(10.0), 10), solve time: 0.03s, loss=1.17).\n",
      "Solved for Subset(size: (np.float64(10.0), 10), solve time: 0.03s, loss=5.23).\n",
      "Solved for Subset(size: (np.float64(10.0), 10), solve time: 0.11s, loss=0.59).\n",
      "Solved for Subset(size: (np.float64(10.0), 10), solve time: 0.02s, loss=3.29).\n",
      "Solved for Subset(size: (np.float64(10.0), 10), solve time: 0.02s, loss=12.53).\n"
     ]
    }
   ],
   "source": [
    "for i in range(numTrials):\n",
    "    for j, lossFunction in enumerate(lossFunctions):\n",
    "        # print(f\"{i/numTrials:.2%}\")\n",
    "        solver.loss = lossFunction\n",
    "\n",
    "        solver.algorithm = fss.algorithm.greedySwap\n",
    "        subset = solver.solve(dataset, subsetSize=subsetSize)\n",
    "\n",
    "        # solver.algorithm = fss.algorithm.optimization\n",
    "        # subset = solver.solve(dataset, subsetSize=subsetSize)\n",
    "\n",
    "        solver.algorithm = fss.algorithm.bestOfRandom\n",
    "        subset = solver.solve(dataset, subsetSize=subsetSize)\n",
    "\n",
    "        solver.algorithm = fss.algorithm.worstOfRandom\n",
    "        subset = solver.solve(dataset, subsetSize=subsetSize)\n"
   ]
  },
  {
   "cell_type": "code",
   "execution_count": null,
   "metadata": {},
   "outputs": [],
   "source": [
    "def list_to_string(objective):\n",
    "    if isinstance(objective, str):\n",
    "        # Remove brackets and quotes, then split by comma\n",
    "        objective = objective.strip(\"[]\").replace(\"'\", \"\").replace(\" \", \"\").split(\",\")\n",
    "    if isinstance(objective, list):\n",
    "        return \"_\".join(sorted(objective))\n",
    "    return objective"
   ]
  },
  {
   "cell_type": "code",
   "execution_count": null,
   "metadata": {},
   "outputs": [],
   "source": [
    "palette = {\"green\": \"#8dd3c7\", \"orange\": \"#fb8072\", \"yellow\": \"#fdb462\", \n",
    "           \"blue\": \"#8dadd3\", \"grey\": \"#eff0f2\"}\n",
    "color = fss.plot.Color(palette)\n",
    "fss.plot.initialize(color)\n",
    "\n",
    "fig, axs = plt.subplots(nrows=2, ncols=3, figsize=(12, 7))\n",
    "axs = axs.ravel()\n",
    "metrics = [\"mean\", \"range\", \"mean_range\", \"coverage\", \"distribution\",\n",
    "           \"coverage_distribution_mean_range\"]\n",
    "titles = [\"Mean\", \"Range\", \"Range and Mean\", \"Coverage\", \"Distribution\",\n",
    "          \"Range, Mean, Coverage and Distribution\"]\n",
    "df = pd.read_csv(f\"../data/{directory}/computationData.csv\")\n",
    "df['Objective'] = df['Objective'].apply(list_to_string)\n",
    "print(df[\"Objective\"].unique())\n",
    "\n",
    "for i, metric in enumerate(metrics):\n",
    "    data = df[df[\"Objective\"] == metric]\n",
    "    sns.scatterplot(x=\"Computation Time\",\n",
    "                    y=\"Loss\",\n",
    "                    alpha=0.5,\n",
    "                    hue=\"Algorithm\",\n",
    "                    palette=color.palette.values(),\n",
    "                    data=data,\n",
    "                    ax=axs[i],\n",
    "                    s=75)\n",
    "\n",
    "    axs[i].set_title(titles[i], fontsize=16)\n",
    "    axs[i].set_ylabel(\"Loss\")\n",
    "    axs[i].set_xlabel(\"Time (s)\")\n",
    "    axs[i].set_xlim([0, 1000])\n",
    "    axs[i].legend().set_visible(False)"
   ]
  }
 ],
 "metadata": {
  "kernelspec": {
   "display_name": ".venv",
   "language": "python",
   "name": "python3"
  },
  "language_info": {
   "codemirror_mode": {
    "name": "ipython",
    "version": 3
   },
   "file_extension": ".py",
   "mimetype": "text/x-python",
   "name": "python",
   "nbconvert_exporter": "python",
   "pygments_lexer": "ipython3",
   "version": "3.10.14"
  }
 },
 "nbformat": 4,
 "nbformat_minor": 2
}
