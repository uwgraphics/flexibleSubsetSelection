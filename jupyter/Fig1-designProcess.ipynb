{
 "cells": [
  {
   "cell_type": "markdown",
   "metadata": {},
   "source": [
    "# Design Process Figure\n",
    "\n",
    "This notebook demonstrates the design process figure example, a simple demonstration of the design process using the flexible subset selection strategy. We can express criteria and approaches as objectives, blend them together, and tune the parameters to create subsets for visualization. This notebook generates *Figure 1* of the paper in three parts: `figures/express.pdf`, `figures/blend.pdf`, and `figures/tune.pdf`. The random dataset generated for the example and the subsets selected can be found in `data/1-designProcess`.\n",
    "\n",
    "### Imports and Setup"
   ]
  },
  {
   "cell_type": "code",
   "execution_count": null,
   "metadata": {},
   "outputs": [],
   "source": [
    "# Standard library\n",
    "import logging\n",
    "from pathlib import Path\n",
    "\n",
    "# Third party\n",
    "import matplotlib.pyplot as plt\n",
    "import matplotlib_inline\n",
    "\n",
    "import numpy as np\n",
    "import seaborn as sns \n",
    "\n",
    "# Local files\n",
    "import flexibleSubsetSelection as fss\n",
    "\n",
    "# Initialize notebook settings\n",
    "sns.set_theme() # set seaborn theme\n",
    "matplotlib_inline.backend_inline.set_matplotlib_formats('svg') # vector plots\n",
    "%load_ext autoreload\n",
    "%autoreload 2"
   ]
  },
  {
   "cell_type": "markdown",
   "metadata": {},
   "source": [
    "## Express\n",
    "\n",
    "Common or custom criteria or standard approaches can be expressed as objectives which can be selected and used for a visualization. The flexibility of the general strategy means any criteria that can be expressed in terms of a loss function can be employed for subset selection. Here, we demonstrate expressing convex hull, outliers, and distinctness as objectives and applying them for subset selection."
   ]
  },
  {
   "cell_type": "code",
   "execution_count": null,
   "metadata": {},
   "outputs": [],
   "source": [
    "logging.getLogger(\"flexibleSubsetSelection\").setLevel(logging.DEBUG)\n",
    "\n",
    "directory = \"Fig1-designProcess\" # data directory for this notebook\n",
    "verbose = False                  # verbosity of logging output of solvers\n",
    "seed = 123456789                 # random generation seed for replicability\n",
    "\n",
    "# Create a random blobs dataset to use as our example dataset\n",
    "dataset = fss.Dataset(randTypes=\"blobs\", size=(200, 2), seed=seed)\n",
    "dataset.save(name=\"fullData\", directory=Path(\"..\") / \"data\" / directory)"
   ]
  },
  {
   "cell_type": "markdown",
   "metadata": {},
   "source": [
    "### Convex Hull Objective\n",
    "\n",
    "Applying this objective allows us to select the smallest subset that covers the convex hull of the original dataset.\n",
    "\n",
    "\\begin{align*}\n",
    "\\min_{S \\in \\mathbb{S}} & \\quad \\|S\\| \\\\\n",
    "\\text{s.t.} & \\quad \\text{Hull}(S) = 0\n",
    "\\end{align*}"
   ]
  },
  {
   "cell_type": "code",
   "execution_count": null,
   "metadata": {},
   "outputs": [],
   "source": [
    "# Precalculate the hull metric on the full dataset\n",
    "dataset.preprocess(hull = fss.metric.hull)\n",
    "\n",
    "# Create a unicriterion loss function with the hull metric and precomputation\n",
    "lossFunction = fss.UniCriterion(objective = fss.objective.preserveMetric, \n",
    "                                metric = fss.metric.hull,\n",
    "                                datasetMetric = dataset.hull)\n",
    "\n",
    "# Create a solve method with a greedy algorithm and a set subset size\n",
    "solver = fss.Solver(algorithm = fss.algorithm.greedyMinSubset, \n",
    "                    lossFunction = lossFunction)\n",
    "\n",
    "# Solve for a convex hull subset\n",
    "subsetHull = solver.solve(dataset, epsilon=0, verbose=verbose, initialSize=3)\n",
    "subsetHull.save(f\"{directory}/hullSubset\")"
   ]
  },
  {
   "cell_type": "markdown",
   "metadata": {},
   "source": [
    "### Outliers Objective\n",
    "\n",
    "Applying this objective allows us to select a subset of 40 points with the highest local outlier effect.\n",
    "\n",
    "\\begin{align*}\n",
    "\\max_{S \\in \\mathbb{S}} & \\quad \\text{LOF}(S) \\\\\n",
    "\\text{s.t.} & \\quad \\|S\\| = 40\n",
    "\\end{align*}"
   ]
  },
  {
   "cell_type": "code",
   "execution_count": null,
   "metadata": {},
   "outputs": [],
   "source": [
    "# Precalculate the outlierness (local outlier effect) of the full dataset\n",
    "dataset.preprocess(outlierness = fss.objective.outlierness)\n",
    "\n",
    "# Create a loss function that is just the sum of the LOF in the subset\n",
    "solver.lossFunction = fss.UniCriterion(objective = np.sum, \n",
    "                                       solveArray = \"outlierness\")\n",
    "solver.algorithm = fss.algorithm.greedySwap\n",
    "\n",
    "# Solve for an outlier subset\n",
    "subsetOutliers = solver.solve(dataset, subsetSize=40, verbose=verbose)\n",
    "subsetOutliers.save(f\"{directory}/outliersSubset\")"
   ]
  },
  {
   "cell_type": "markdown",
   "metadata": {},
   "source": [
    "### Distinctness Objective\n",
    "\n",
    "Applying this objective allows us to select a subset of 60 points that are distant from their nearest neighbors in 2D space.\n",
    "\n",
    "\\begin{align*}\n",
    "\\max_{S \\in \\mathbb{S}} & \\quad \\text{Distinctness}(S) \\\\\n",
    "\\text{s.t.} & \\quad \\|S\\| = 60\n",
    "\\end{align*}"
   ]
  },
  {
   "cell_type": "code",
   "execution_count": null,
   "metadata": {},
   "outputs": [],
   "source": [
    "# Create a unicriterion loss function with the distinctness objective\n",
    "dataset.preprocess(distances = fss.metric.distanceMatrix)\n",
    "solver.lossFunction = fss.UniCriterion(objective = fss.objective.distinctness,\n",
    "                                       solveArray = \"distances\",\n",
    "                                       selectBy = \"matrix\")\n",
    "\n",
    "# Solve for distinctness subset\n",
    "subsetDistinct = solver.solve(dataset=dataset, subsetSize=60, verbose=verbose)\n",
    "subsetDistinct.save(f\"{directory}/distinctSubset\")"
   ]
  },
  {
   "cell_type": "markdown",
   "metadata": {},
   "source": [
    "### Plot\n",
    "\n",
    "Now we visualize these three example objectives by plotting the dataset and subsets in 3 scatterplots."
   ]
  },
  {
   "cell_type": "code",
   "execution_count": null,
   "metadata": {},
   "outputs": [],
   "source": [
    "# Initialize color and plot settings\n",
    "color = fss.Color()\n",
    "fss.plot.initialize(color, font=\"DejaVu Sans\")\n",
    "\n",
    "# Plot the three different resulting subsets as scatterplots\n",
    "titleSize = 24\n",
    "subtitleSize = 18\n",
    "titles = [\"Hull\", \"Outliers\", \"Distinctness\"]\n",
    "subsets = [subsetHull, subsetOutliers, subsetDistinct]\n",
    "\n",
    "fig, axs = plt.subplots(nrows=1, ncols=3, figsize=(8, 3.5))\n",
    "fig.text(0.49, 1, '1. Express', ha='center', va='center', fontsize=titleSize)\n",
    "\n",
    "for i, ax in enumerate(fig.axes):\n",
    "    ax.grid(visible=False)\n",
    "    ax.set_xticks([])\n",
    "    ax.set_yticks([])\n",
    "    ax.set_title(titles[i], fontsize=subtitleSize)\n",
    "    # ax.set_aspect(\"equal\")\n",
    "\n",
    "    fss.plot.scatter(ax = ax, \n",
    "                 color = color, \n",
    "                 dataset = dataset, \n",
    "                 subset = subsets[i], \n",
    "                 alpha = 0.6)\n",
    "\n",
    "plt.savefig(f\"../figures/{directory}/express.pdf\", bbox_inches=\"tight\")"
   ]
  },
  {
   "cell_type": "markdown",
   "metadata": {},
   "source": [
    "## Blend\n",
    "\n",
    "For visualizations with multiple criteria, objectives can be combined together to achieve more complicated outcomes. Multiple criteria can be balanced using the weight parameters to ensure the objectives apply to the subsets at desirable levels. Here we create three different subsets that blend a distribution objective (using the earth movers distance as the metric) with the distinctness objective from the previous section. Each subset blends the two objectives differently by varying the weights.\n",
    "\n",
    "\\begin{align*}\n",
    "\\min_{S \\in \\mathbb{S}} & \\quad \\lambda_0 \\text{EMD}(S) + \\lambda_1 \\text{Distinctness}(S) \\\\\n",
    "\\text{s.t.} & \\quad \\|S\\| = 80\n",
    "\\end{align*}"
   ]
  },
  {
   "cell_type": "code",
   "execution_count": null,
   "metadata": {},
   "outputs": [],
   "source": [
    "subsetSize = 80 # The size of subsets being selected with blended objectives\n",
    "\n",
    "# Use distribution and distinctness objectives\n",
    "objectives = [fss.objective.earthMoversDistance, fss.objective.distinctness]\n",
    "\n",
    "# Parameters of the distribution and distinctness objectives\n",
    "parameters = [{\"dataset\": dataset.dataArray}, \n",
    "              {\"solveArray\": \"distances\", \"selectBy\": \"matrix\"}]\n",
    "\n",
    "# Create the multicriterion loss function from the objectives and weight them\n",
    "solver.lossFunction = fss.MultiCriterion(objectives = objectives, \n",
    "                                         parameters = parameters, \n",
    "                                         weights=[100, 1])\n",
    "\n",
    "# Solve for the blended distribution and distinctness subset\n",
    "subsetBlend1 = solver.solve(dataset, subsetSize=subsetSize, verbose=verbose)\n",
    "subsetBlend1.save(f\"{directory}/blend1Subset\")"
   ]
  },
  {
   "cell_type": "code",
   "execution_count": null,
   "metadata": {},
   "outputs": [],
   "source": [
    "# Update the weights to provide less emphasis on the distribution objective\n",
    "solver.lossFunction = fss.MultiCriterion(objectives = objectives, \n",
    "                                         parameters = parameters, \n",
    "                                         weights=[10, 1])\n",
    "\n",
    "# Solve for the blended distribution and distinctness subset\n",
    "subsetBlend2 = solver.solve(dataset, subsetSize=subsetSize, verbose=verbose)\n",
    "subsetBlend2.save(f\"{directory}/blend2Subset\")"
   ]
  },
  {
   "cell_type": "code",
   "execution_count": null,
   "metadata": {},
   "outputs": [],
   "source": [
    "# Update the weights to an even weight of the two objectives\n",
    "solver.lossFunction = fss.MultiCriterion(objectives = objectives, \n",
    "                                         parameters = parameters, \n",
    "                                         weights=[1, 1])\n",
    "\n",
    "# Solve for the blended distribution and distinctness subset\n",
    "subsetBlend3 = solver.solve(dataset, subsetSize=subsetSize, verbose=verbose)\n",
    "subsetBlend3.save(f\"{directory}/blend3Subset\")"
   ]
  },
  {
   "cell_type": "markdown",
   "metadata": {},
   "source": [
    "### Plot\n",
    "\n",
    "Now we visualize these three example blended subsets by plotting the dataset and subsets in 3 scatterplots."
   ]
  },
  {
   "cell_type": "code",
   "execution_count": null,
   "metadata": {},
   "outputs": [],
   "source": [
    "# Plot the three subsets with different blends of the two objectives\n",
    "titles = [\"More Distribution,\\nLess Distinct\", \"\", \n",
    "          \"Less Distribution,\\nMore Distinct\"]\n",
    "subsets = [subsetBlend1, subsetBlend2, subsetBlend3]\n",
    "\n",
    "fig, axs = plt.subplots(nrows=1, ncols=3, figsize=(8, 3.5))\n",
    "fig.text(0.49, 1, '2. Blend', ha='center', va='center', fontsize=titleSize)\n",
    "\n",
    "for i, ax in enumerate(fig.axes):\n",
    "    ax.grid(visible=False)\n",
    "    ax.set_xticks([])\n",
    "    ax.set_yticks([])\n",
    "    ax.set_title(titles[i], fontsize=subtitleSize)\n",
    "\n",
    "    fss.plot.scatter(ax = ax, \n",
    "                     color = color,\n",
    "                     dataset = dataset,\n",
    "                     subset = subsets[i],\n",
    "                     alpha = 0.6)\n",
    "\n",
    "plt.savefig(f\"../figures/{directory}/blend.pdf\", bbox_inches=\"tight\")"
   ]
  },
  {
   "cell_type": "markdown",
   "metadata": {},
   "source": [
    "## Tune\n",
    "\n",
    "Along with the weight parameters that help in blending objectives, the parameters of the objectives and the optimization formulation can be tuned to select a subset that is more effective for a given visualization. For example, the subset size, loss bounds, and subset weight parameters can be used to tune the subset size for a particular visualization. Objectives may have parameters associated with them such as the number of clusters in a clustering objective, the amount of seperation in a distinctness objective, or the smoothing parameter of a kernel density estimation. These provide additional flexibility to tune the objectives to a desirable level. Here we tune the subset size by varying the weight given to this fundamental characteristic of a subset to three different levels. \n",
    "\n",
    "$$\\min_{S \\in \\mathbb{S}} \\space \\lambda \\|S\\| + \\text{Distinctness}(S)$$"
   ]
  },
  {
   "cell_type": "code",
   "execution_count": null,
   "metadata": {},
   "outputs": [],
   "source": [
    "# Create a unicriterion loss function with the distinctness objective\n",
    "solver.lossFunction = fss.UniCriterion(objective = fss.objective.distinctness,\n",
    "                                       solveArray = \"distances\",\n",
    "                                       selectBy = \"matrix\")\n",
    "solver.algorithm = fss.algorithm.greedyMixed\n",
    "\n",
    "# Solve for subsets with 3 different subset sizes\n",
    "subsetDistinct1 = solver.solve(dataset = dataset, \n",
    "                               weight = 0.5, \n",
    "                               initialSize = 3, \n",
    "                               verbose = verbose)\n",
    "subsetDistinct1.save(f\"{directory}/distinct1Subset\")\n",
    "\n",
    "subsetDistinct2 = solver.solve(dataset = dataset, \n",
    "                               weight = 0.25, \n",
    "                               initialSize = 3, \n",
    "                               verbose = verbose)\n",
    "subsetDistinct2.save(f\"{directory}/distinct2Subset\")\n",
    "\n",
    "subsetDistinct3 = solver.solve(dataset = dataset, \n",
    "                               weight = 0.05, \n",
    "                               initialSize = 3, \n",
    "                               verbose = verbose)\n",
    "subsetDistinct3.save(f\"{directory}/distinct3Subset\")"
   ]
  },
  {
   "cell_type": "markdown",
   "metadata": {},
   "source": [
    "### Plot\n",
    "\n",
    "Now we visualize these three example subsets of different sizes by plotting the dataset and subsets in 3 scatterplots."
   ]
  },
  {
   "cell_type": "code",
   "execution_count": null,
   "metadata": {},
   "outputs": [],
   "source": [
    "# Plot the three subsets with different subset sizes based on the tuning\n",
    "titles = [\"Fewer Points,\\nMore Distinct\", \"\", \"More Points,\\nLess Distinct\"]\n",
    "subsets = [subsetDistinct1, subsetDistinct2, subsetDistinct3]\n",
    "\n",
    "fig, axs = plt.subplots(nrows=1, ncols=3, figsize=(8, 3.5))\n",
    "fig.text(0.49, 1, '3. Tune', ha='center', va='center', fontsize=titleSize)\n",
    "\n",
    "for i, ax in enumerate(fig.axes):\n",
    "    ax.grid(visible=False)\n",
    "    ax.set_xticks([])\n",
    "    ax.set_yticks([])\n",
    "    ax.set_title(titles[i], fontsize=subtitleSize)\n",
    "\n",
    "    fss.plot.scatter(ax = ax, \n",
    "                 color = color, \n",
    "                 dataset = dataset, \n",
    "                 subset = subsets[i], \n",
    "                 alpha = 0.6)\n",
    "\n",
    "plt.savefig(f\"../figures/{directory}/tune.pdf\", bbox_inches=\"tight\")"
   ]
  }
 ],
 "metadata": {
  "language_info": {
   "name": "python"
  }
 },
 "nbformat": 4,
 "nbformat_minor": 2
}
